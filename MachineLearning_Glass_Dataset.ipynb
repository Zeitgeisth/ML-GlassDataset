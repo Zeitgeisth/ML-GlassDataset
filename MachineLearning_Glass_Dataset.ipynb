{
  "nbformat": 4,
  "nbformat_minor": 0,
  "metadata": {
    "colab": {
      "provenance": [],
      "include_colab_link": true
    },
    "kernelspec": {
      "name": "python3",
      "display_name": "Python 3"
    },
    "language_info": {
      "name": "python"
    }
  },
  "cells": [
    {
      "cell_type": "markdown",
      "metadata": {
        "id": "view-in-github",
        "colab_type": "text"
      },
      "source": [
        "<a href=\"https://colab.research.google.com/github/Zeitgeisth/ML-GlassDataset/blob/main/MachineLearning_Glass_Dataset.ipynb\" target=\"_parent\"><img src=\"https://colab.research.google.com/assets/colab-badge.svg\" alt=\"Open In Colab\"/></a>"
      ]
    },
    {
      "cell_type": "markdown",
      "source": [
        "# **REQUIREMENT R1**"
      ],
      "metadata": {
        "id": "Quo-3fLiQgd2"
      }
    },
    {
      "cell_type": "code",
      "execution_count": null,
      "metadata": {
        "id": "B0MUg_nBQYOR"
      },
      "outputs": [],
      "source": [
        "import pandas as pd\n",
        "import numpy as np\n",
        "import matplotlib.pyplot as plt\n",
        "import seaborn as sns\n",
        "from sklearn.preprocessing import MinMaxScaler\n",
        "from sklearn.metrics.pairwise import rbf_kernel\n",
        "from sklearn.manifold import TSNE\n",
        "from sklearn.linear_model import Perceptron, LogisticRegression\n",
        "from sklearn.neural_network import MLPClassifier\n",
        "from sklearn.model_selection import RepeatedKFold, GridSearchCV, cross_validate\n",
        "from sklearn.metrics import f1_score, confusion_matrix, accuracy_score\n",
        "from sklearn.model_selection import StratifiedKFold\n",
        "from sklearn.model_selection import train_test_split\n",
        "from imblearn.over_sampling import SMOTE\n",
        "from sklearn.metrics import classification_report"
      ]
    },
    {
      "cell_type": "markdown",
      "source": [
        "Loading Data from https://archive.ics.uci.edu/ml/machine-learning-databases/glass/glass.data"
      ],
      "metadata": {
        "id": "gfKRnj_ZQqG-"
      }
    },
    {
      "cell_type": "code",
      "source": [
        "columns = ['RI','Na', 'Mg', 'Al', 'Si', 'K', 'Ca', 'Ba','Fe','Type']\n",
        "df = pd.read_csv('https://archive.ics.uci.edu/ml/machine-learning-databases/glass/glass.data',\n",
        "                 names=columns,header=None)"
      ],
      "metadata": {
        "id": "mvpe_8flQs6j"
      },
      "execution_count": null,
      "outputs": []
    },
    {
      "cell_type": "markdown",
      "source": [
        "# a) Checking for missing values and imputing missing values if appropriate.\n",
        "\n",
        "No null values are seen, so there's no need to impute."
      ],
      "metadata": {
        "id": "H6l5vhXrQ1xD"
      }
    },
    {
      "cell_type": "code",
      "source": [
        "df.info()"
      ],
      "metadata": {
        "colab": {
          "base_uri": "https://localhost:8080/"
        },
        "id": "h9Zol6r6Q2xX",
        "outputId": "82d65348-6694-43fb-c50e-42ceedccd864"
      },
      "execution_count": null,
      "outputs": [
        {
          "output_type": "stream",
          "name": "stdout",
          "text": [
            "<class 'pandas.core.frame.DataFrame'>\n",
            "Index: 214 entries, 1 to 214\n",
            "Data columns (total 10 columns):\n",
            " #   Column  Non-Null Count  Dtype  \n",
            "---  ------  --------------  -----  \n",
            " 0   RI      214 non-null    float64\n",
            " 1   Na      214 non-null    float64\n",
            " 2   Mg      214 non-null    float64\n",
            " 3   Al      214 non-null    float64\n",
            " 4   Si      214 non-null    float64\n",
            " 5   K       214 non-null    float64\n",
            " 6   Ca      214 non-null    float64\n",
            " 7   Ba      214 non-null    float64\n",
            " 8   Fe      214 non-null    float64\n",
            " 9   Type    214 non-null    int64  \n",
            "dtypes: float64(9), int64(1)\n",
            "memory usage: 18.4 KB\n"
          ]
        }
      ]
    },
    {
      "cell_type": "markdown",
      "source": [
        "Value Count of Labels:"
      ],
      "metadata": {
        "id": "a93jjme5Q9sF"
      }
    },
    {
      "cell_type": "code",
      "source": [
        "df['Type'].value_counts()"
      ],
      "metadata": {
        "colab": {
          "base_uri": "https://localhost:8080/",
          "height": 303
        },
        "id": "IM1Yb3hRQ-eX",
        "outputId": "47a54ce2-adf1-4cf3-b35d-ce0df6d9d40e"
      },
      "execution_count": null,
      "outputs": [
        {
          "output_type": "execute_result",
          "data": {
            "text/plain": [
              "Type\n",
              "2    76\n",
              "1    70\n",
              "7    29\n",
              "3    17\n",
              "5    13\n",
              "6     9\n",
              "Name: count, dtype: int64"
            ],
            "text/html": [
              "<div>\n",
              "<style scoped>\n",
              "    .dataframe tbody tr th:only-of-type {\n",
              "        vertical-align: middle;\n",
              "    }\n",
              "\n",
              "    .dataframe tbody tr th {\n",
              "        vertical-align: top;\n",
              "    }\n",
              "\n",
              "    .dataframe thead th {\n",
              "        text-align: right;\n",
              "    }\n",
              "</style>\n",
              "<table border=\"1\" class=\"dataframe\">\n",
              "  <thead>\n",
              "    <tr style=\"text-align: right;\">\n",
              "      <th></th>\n",
              "      <th>count</th>\n",
              "    </tr>\n",
              "    <tr>\n",
              "      <th>Type</th>\n",
              "      <th></th>\n",
              "    </tr>\n",
              "  </thead>\n",
              "  <tbody>\n",
              "    <tr>\n",
              "      <th>2</th>\n",
              "      <td>76</td>\n",
              "    </tr>\n",
              "    <tr>\n",
              "      <th>1</th>\n",
              "      <td>70</td>\n",
              "    </tr>\n",
              "    <tr>\n",
              "      <th>7</th>\n",
              "      <td>29</td>\n",
              "    </tr>\n",
              "    <tr>\n",
              "      <th>3</th>\n",
              "      <td>17</td>\n",
              "    </tr>\n",
              "    <tr>\n",
              "      <th>5</th>\n",
              "      <td>13</td>\n",
              "    </tr>\n",
              "    <tr>\n",
              "      <th>6</th>\n",
              "      <td>9</td>\n",
              "    </tr>\n",
              "  </tbody>\n",
              "</table>\n",
              "</div><br><label><b>dtype:</b> int64</label>"
            ]
          },
          "metadata": {},
          "execution_count": 6
        }
      ]
    },
    {
      "cell_type": "markdown",
      "source": [
        "Segregating input and output fields"
      ],
      "metadata": {
        "id": "3hRdUSBHSvOv"
      }
    },
    {
      "cell_type": "code",
      "source": [
        "X = df.drop('Type',axis=1)\n",
        "y = df['Type']"
      ],
      "metadata": {
        "id": "4Sr1ae0lSyCK"
      },
      "execution_count": null,
      "outputs": []
    },
    {
      "cell_type": "markdown",
      "source": [
        "# b) Normalizing all feature values to lie in the range 0 to 1.\n",
        "\n",
        "Normalizing input in the range from 0 to 1"
      ],
      "metadata": {
        "id": "dU9Y_H-ySpNo"
      }
    },
    {
      "cell_type": "code",
      "source": [
        "scaler = MinMaxScaler(feature_range=(0, 1))\n",
        "X_scaled = scaler.fit_transform(X)\n",
        "\n",
        "X_scaled = pd.DataFrame(X_scaled, columns=X.columns)"
      ],
      "metadata": {
        "id": "3wCSKoCuSmXY"
      },
      "execution_count": null,
      "outputs": []
    },
    {
      "cell_type": "markdown",
      "source": [
        "# c) Using Kernel functions to transform data to reduce the amount of overlap between classes (particularly between classes 1 and 2)."
      ],
      "metadata": {
        "id": "-LPV7uZ1TSJB"
      }
    },
    {
      "cell_type": "code",
      "source": [
        "\n",
        "gamma = 1 / (X_scaled.shape[1] * X_scaled.var().mean())\n",
        "\n",
        "X_rbf = rbf_kernel(X_scaled, gamma=gamma)"
      ],
      "metadata": {
        "id": "7RQnPnh7TRaK"
      },
      "execution_count": null,
      "outputs": []
    },
    {
      "cell_type": "markdown",
      "source": [
        "# d) Using the tsne visualization package to visualize the class distribution both before and after the application of the Kernel functions."
      ],
      "metadata": {
        "id": "K-oSzUVgTgwB"
      }
    },
    {
      "cell_type": "markdown",
      "source": [
        "Visualization before the application of rbf kernel.\n",
        "\n"
      ],
      "metadata": {
        "id": "exyfSIHxaZI9"
      }
    },
    {
      "cell_type": "code",
      "source": [
        "\n",
        "tsne_before = TSNE(n_components=2, random_state=42)\n",
        "X_tsne = tsne_before.fit_transform(X_scaled)\n",
        "plt.figure(figsize=(10, 6))\n",
        "sns.scatterplot(x=X_tsne[:, 0], y=X_tsne[:, 1], hue=y, palette='viridis', s=60, alpha=0.7)\n",
        "plt.title(\"t-SNE visualization of Glass dataset (Before Kernel Transformation)\")\n",
        "plt.show()\n"
      ],
      "metadata": {
        "colab": {
          "base_uri": "https://localhost:8080/",
          "height": 545
        },
        "id": "AW6j-MQPTiVR",
        "outputId": "4d49504d-6a89-466b-93ad-96afc93d5558"
      },
      "execution_count": null,
      "outputs": [
        {
          "output_type": "display_data",
          "data": {
            "text/plain": [
              "<Figure size 1000x600 with 1 Axes>"
            ],
            "image/png": "[encoded data removed]"
          },
          "metadata": {}
        }
      ]
    },
    {
      "cell_type": "markdown",
      "source": [
        "Visualization after the application of rbf kernel.\n"
      ],
      "metadata": {
        "id": "5qkZEFL8Tn7H"
      }
    },
    {
      "cell_type": "code",
      "source": [
        "tsne_after = TSNE(n_components=2, random_state=42)\n",
        "X_rbf_tsne = tsne_after.fit_transform(X_rbf)\n",
        "\n",
        "plt.figure(figsize=(10, 6))\n",
        "sns.scatterplot(x=X_rbf_tsne[:, 0], y=X_rbf_tsne[:, 1], hue=y, palette='viridis', s=60, alpha=0.7)\n",
        "plt.title(\"t-SNE visualization of Glass dataset (After RBF Kernel Transformation)\")\n",
        "plt.show()"
      ],
      "metadata": {
        "colab": {
          "base_uri": "https://localhost:8080/",
          "height": 545
        },
        "id": "rp3WMACdUt5J",
        "outputId": "e615eccd-0fc0-479f-c6ea-aa485fafa5af"
      },
      "execution_count": null,
      "outputs": [
        {
          "output_type": "display_data",
          "data": {
            "text/plain": [
              "<Figure size 1000x600 with 1 Axes>"
            ],
            "image/png": "[encoded data removed]"
          },
          "metadata": {}
        }
      ]
    },
    {
      "cell_type": "markdown",
      "source": [
        "# Conclusion\n",
        "\n",
        "The RBF kernel transformation has proven to be an effective tool for enhancing the separability of classes in the Glass dataset, particularly for classes 1 and 2. By introducing non-linearity into the data, the RBF kernel allowed for a more accurate representation of the underlying relationships between the features and class labels. This resulted in a significant reduction in the overlap between the target classes, making them more distinguishable in the t-SNE visualization.\n",
        "\n",
        "RBF Kernel maps linear non separable input data into high dimensional non-linear form so that, it can be separable by a hyperplane, so there is reduction in overlap of classes."
      ],
      "metadata": {
        "id": "K0L06xttUzQZ"
      }
    },
    {
      "cell_type": "markdown",
      "source": [
        "# **REQUIREMENT R2**"
      ],
      "metadata": {
        "id": "lMstaiifVWvq"
      }
    },
    {
      "cell_type": "markdown",
      "source": [
        "Initializing for cross validation\n"
      ],
      "metadata": {
        "id": "jjFIDOh7VaiC"
      }
    },
    {
      "cell_type": "code",
      "source": [
        "num_folds = 10\n",
        "num_repeats = 3\n",
        "rkf = RepeatedKFold(n_splits=num_folds, n_repeats=num_repeats)"
      ],
      "metadata": {
        "id": "KoFcLyuRVgDB"
      },
      "execution_count": null,
      "outputs": []
    },
    {
      "cell_type": "markdown",
      "source": [
        "# a) Generate a Linear Perceptron model both on the pre-processed data before and after the application of the Kernel function. Tune the max_iter parameter to obtain best results."
      ],
      "metadata": {
        "id": "IQEAO-DubZbr"
      }
    },
    {
      "cell_type": "markdown",
      "source": [
        "\n",
        "Generic function for Model Selection to perform GridSearchCV and evaluate models"
      ],
      "metadata": {
        "id": "M_92hHkBXT4s"
      }
    },
    {
      "cell_type": "code",
      "source": [
        "def tune_and_evaluate(model, param_grid, X_data, y, model_name):\n",
        "    gridSearch = GridSearchCV(estimator=model, param_grid=param_grid, cv=rkf, scoring='accuracy', n_jobs=-1)\n",
        "    gridSearch.fit(X_data, y)\n",
        "    bestModel = gridSearch.best_estimator_\n",
        "\n",
        "    scores = cross_validate(bestModel, X_data, y, cv=rkf, scoring=['accuracy', 'f1_macro'], return_train_score=False, n_jobs=-1)\n",
        "\n",
        "    accuracy = np.mean(scores['test_accuracy'])\n",
        "    f1 = np.mean(scores['test_f1_macro'])\n",
        "\n",
        "    print(f\"\\nBest parameters for {model_name}: {gridSearch.best_params_}\")\n",
        "    print(f\"Mean Accuracy: {accuracy:.4f}\")\n",
        "    print(f\"Mean F1 Score (Macro): {f1:.4f}\")\n",
        "\n",
        "    return bestModel, accuracy, f1\n"
      ],
      "metadata": {
        "id": "FI1-GeeAXgP6"
      },
      "execution_count": null,
      "outputs": []
    },
    {
      "cell_type": "markdown",
      "source": [
        "Linear Perceptron Analysis"
      ],
      "metadata": {
        "id": "lvtcb8bIY-yP"
      }
    },
    {
      "cell_type": "code",
      "source": [
        "print(\"Evaluating Linear Perceptron...\")\n",
        "perceptron = Perceptron()\n",
        "perceptron_param_grid = {\n",
        "                        'max_iter': [10000, 9000, 5000, 12000, 15000],\n",
        "                        'tol': [0.0001, 0.0005],\n",
        "                        'n_iter_no_change': [3,5,7,1],\n",
        "                        'random_state': [0, 1, 42]\n",
        "                         }\n",
        "# without rbf\n",
        "best_perceptron, accuracy_perceptron, f1_perceptron = tune_and_evaluate(\n",
        "    perceptron, perceptron_param_grid, X_scaled, y, \"Linear Perceptron on Raw Data\"\n",
        ")\n",
        "\n",
        "#with rbf\n",
        "best_perceptron_rbf, accuracy_perceptron_rbf, f1_perceptron_rbf = tune_and_evaluate(\n",
        "    perceptron, perceptron_param_grid, X_rbf, y, \"Linear Perceptron with RBF Kernel\"\n",
        ")\n",
        "\n",
        "print(f\"\\n Best Parameter for Linear Perceptron with raw data: {best_perceptron}\")\n",
        "print(f\"\\Accuracy Perceptron for Linear Perceptron with raw data: {accuracy_perceptron}\")\n",
        "print(f\"\\F1 Perceptron for Linear Perceptron with raw data: {f1_perceptron}\")\n",
        "\n",
        "print(f\"\\n Best Parameter for Linear Perceptron with RBF kernel data: {best_perceptron_rbf}\")\n",
        "print(f\"\\Accuracy Perceptron for Linear Perceptron with RBF kernel data: {accuracy_perceptron_rbf}\")\n",
        "print(f\"\\F1 Perceptron for Linear Perceptron with RBF kernel data: {f1_perceptron_rbf}\")"
      ],
      "metadata": {
        "colab": {
          "base_uri": "https://localhost:8080/"
        },
        "id": "ol_4yWtpZGpe",
        "outputId": "4ccdf3fb-0b4d-44d1-8b95-e69789059d6a"
      },
      "execution_count": null,
      "outputs": [
        {
          "output_type": "stream",
          "name": "stdout",
          "text": [
            "Evaluating Linear Perceptron...\n",
            "\n",
            "Best parameters for Linear Perceptron on Raw Data: {'max_iter': 10000, 'n_iter_no_change': 7, 'random_state': 0, 'tol': 0.0005}\n",
            "Mean Accuracy: 0.4052\n",
            "Mean F1 Score (Macro): 0.2846\n",
            "\n",
            "Best parameters for Linear Perceptron with RBF Kernel: {'max_iter': 10000, 'n_iter_no_change': 7, 'random_state': 42, 'tol': 0.0001}\n",
            "Mean Accuracy: 0.5800\n",
            "Mean F1 Score (Macro): 0.4718\n",
            "\n",
            " Best Parameter for Linear Perceptron with raw data: Perceptron(max_iter=10000, n_iter_no_change=7, tol=0.0005)\n",
            "\\Accuracy Perceptron for Linear Perceptron with raw data: 0.4051948051948051\n",
            "\\F1 Perceptron for Linear Perceptron with raw data: 0.28456278234632765\n",
            "\n",
            " Best Parameter for Linear Perceptron with RBF kernel data: Perceptron(max_iter=10000, n_iter_no_change=7, random_state=42, tol=0.0001)\n",
            "\\Accuracy Perceptron for Linear Perceptron with RBF kernel data: 0.5800144300144301\n",
            "\\F1 Perceptron for Linear Perceptron with RBF kernel data: 0.4717959124286479\n"
          ]
        }
      ]
    },
    {
      "cell_type": "markdown",
      "source": [
        "**Comparison Between Perceptron using and not using Kernel**"
      ],
      "metadata": {
        "id": "J22Vy10XbrqZ"
      }
    },
    {
      "cell_type": "markdown",
      "source": [
        "Before using RBF Kernel, Accuracy for Linear Perceptron was 0.4491 and F1-score was 0.3377. But, after the use of Kernel Accuracy for Linear Perceptron increased to 0.5680 and F1-score increased to 0.4821.\n",
        "\n",
        "This is because, RBF Kernel introduced the non-linearity to the data so that hyperplane could separate the class better.\n",
        "\n",
        "Also, max_iter '1000' is good for linear perceptron as seen above."
      ],
      "metadata": {
        "id": "k4C7M54ld4J0"
      }
    },
    {
      "cell_type": "markdown",
      "source": [
        "\n",
        "# R1 d) Experimenting with the rbf kernel.\n",
        "\n",
        "**Linear Perceptron Analysis using different RBF Kernel Gamma Values**"
      ],
      "metadata": {
        "id": "CTrmqM2keqrO"
      }
    },
    {
      "cell_type": "code",
      "source": [
        "\n",
        "gamma = 1 / (X_scaled.shape[1] * X_scaled.var().mean())\n",
        "\n",
        "X_rbf1 = rbf_kernel(X_scaled, gamma=gamma)\n",
        "X_rbf2 = rbf_kernel(X_scaled, gamma=1)\n",
        "X_rbf3 = rbf_kernel(X_scaled, gamma=1/2)\n",
        "X_rbf4 = rbf_kernel(X_scaled, gamma=1/10)"
      ],
      "metadata": {
        "id": "g0Fn8puse6F7"
      },
      "execution_count": null,
      "outputs": []
    },
    {
      "cell_type": "code",
      "source": [
        "\n",
        "\n",
        "# a) For Linear Perceptron\n",
        "print(\"Evaluating Linear Perceptron...\")\n",
        "perceptron = Perceptron()\n",
        "perceptron_param_grid = {\n",
        "                        'max_iter': [10000],\n",
        "                        'tol': [0.0001],\n",
        "                        'n_iter_no_change': [5],\n",
        "                        'random_state': [42]\n",
        "                         }\n",
        "\n",
        "best_perceptron_rbf1, accuracy_perceptron_rbf1, f1_perceptron_rbf1 = tune_and_evaluate(\n",
        "    perceptron, perceptron_param_grid, X_rbf1, y, \"Linear Perceptron with RBF Kernel with tot_input_headers times mean variance(scaled)\"\n",
        ")\n",
        "\n",
        "best_perceptron_rbf2, accuracy_perceptron_rbf2, f1_perceptron_rbf2 = tune_and_evaluate(\n",
        "    perceptron, perceptron_param_grid, X_rbf2, y, \"Linear Perceptron with RBF Kernel data with gamma 1\"\n",
        ")\n",
        "\n",
        "best_perceptron_rbf3, accuracy_perceptron_rbf3, f1_perceptron_rbf3 = tune_and_evaluate(\n",
        "    perceptron, perceptron_param_grid, X_rbf3, y, \"Linear Perceptron with RBF Kernel data with gamma 1/2\"\n",
        ")\n",
        "\n",
        "best_perceptron_rbf4, accuracy_perceptron_rbf4, f1_perceptron_rbf4 = tune_and_evaluate(\n",
        "    perceptron, perceptron_param_grid, X_rbf4, y, \"Linear Perceptron with RBF Kernel data with gamma 1/10\"\n",
        ")\n",
        "\n",
        "print(f\"\\n Best Parameter for Linear Perceptron RBF kernel data with tot_input_headers times mean variance(scaled): {best_perceptron_rbf1}\")\n",
        "print(f\"\\Accuracy Perceptron for Linear Perceptron RBF kernel data with tot_input_headers times mean variance(scaled): {accuracy_perceptron_rbf1}\")\n",
        "print(f\"\\F1 Perceptron for Linear Perceptron with RBF kernel data with tot_input_headers times mean variance(scaled): {f1_perceptron_rbf1}\")\n",
        "\n",
        "print(f\"\\n Best Parameter for Linear Perceptron with RBF kernel data with gamma 1: {best_perceptron_rbf2}\")\n",
        "print(f\"\\Accuracy Perceptron for Linear Perceptron with RBF kernel data with gamma 1: {accuracy_perceptron_rbf2}\")\n",
        "print(f\"\\F1 Perceptron for Linear Perceptron with RBF kernel data with gamma 1: {f1_perceptron_rbf2}\")\n",
        "\n",
        "print(f\"\\n Best Parameter for Linear Perceptron with RBF kernel data with gamma 1/2: {best_perceptron_rbf3}\")\n",
        "print(f\"\\Accuracy Perceptron for Linear Perceptron RBF kernel data with gamma 1/2: {accuracy_perceptron_rbf3}\")\n",
        "print(f\"\\F1 Perceptron for Linear Perceptron with RBF kernel data with gamma 1/2: {f1_perceptron_rbf3}\")\n",
        "\n",
        "print(f\"\\n Best Parameter for Linear Perceptron with RBF kernel data with gamma 1/10: {best_perceptron_rbf4}\")\n",
        "print(f\"\\Accuracy Perceptron for Linear Perceptron with RBF kernel data with gamma 1/10: {accuracy_perceptron_rbf4}\")\n",
        "print(f\"\\F1 Perceptron for Linear Perceptron with RBF kernel data with gamma 1/10: {f1_perceptron_rbf4}\")"
      ],
      "metadata": {
        "colab": {
          "base_uri": "https://localhost:8080/"
        },
        "id": "Ei0E0HFBewzk",
        "outputId": "28f5a6f9-ba7d-4e3a-a964-5eef03b9bea5"
      },
      "execution_count": null,
      "outputs": [
        {
          "output_type": "stream",
          "name": "stdout",
          "text": [
            "Evaluating Linear Perceptron...\n",
            "\n",
            "Best parameters for Linear Perceptron with RBF Kernel with tot_input_headers times mean variance(scaled): {'max_iter': 10000, 'n_iter_no_change': 5, 'random_state': 42, 'tol': 0.0001}\n",
            "Mean Accuracy: 0.5770\n",
            "Mean F1 Score (Macro): 0.4340\n",
            "\n",
            "Best parameters for Linear Perceptron with RBF Kernel data with gamma 1: {'max_iter': 10000, 'n_iter_no_change': 5, 'random_state': 42, 'tol': 0.0001}\n",
            "Mean Accuracy: 0.4565\n",
            "Mean F1 Score (Macro): 0.3128\n",
            "\n",
            "Best parameters for Linear Perceptron with RBF Kernel data with gamma 1/2: {'max_iter': 10000, 'n_iter_no_change': 5, 'random_state': 42, 'tol': 0.0001}\n",
            "Mean Accuracy: 0.4545\n",
            "Mean F1 Score (Macro): 0.2743\n",
            "\n",
            "Best parameters for Linear Perceptron with RBF Kernel data with gamma 1/10: {'max_iter': 10000, 'n_iter_no_change': 5, 'random_state': 42, 'tol': 0.0001}\n",
            "Mean Accuracy: 0.3319\n",
            "Mean F1 Score (Macro): 0.1261\n",
            "\n",
            " Best Parameter for Linear Perceptron RBF kernel data with tot_input_headers times mean variance(scaled): Perceptron(max_iter=10000, random_state=42, tol=0.0001)\n",
            "\\Accuracy Perceptron for Linear Perceptron RBF kernel data with tot_input_headers times mean variance(scaled): 0.5769841269841269\n",
            "\\F1 Perceptron for Linear Perceptron with RBF kernel data with tot_input_headers times mean variance(scaled): 0.4339785951281152\n",
            "\n",
            " Best Parameter for Linear Perceptron with RBF kernel data with gamma 1: Perceptron(max_iter=10000, random_state=42, tol=0.0001)\n",
            "\\Accuracy Perceptron for Linear Perceptron with RBF kernel data with gamma 1: 0.45649350649350645\n",
            "\\F1 Perceptron for Linear Perceptron with RBF kernel data with gamma 1: 0.3127937430516802\n",
            "\n",
            " Best Parameter for Linear Perceptron with RBF kernel data with gamma 1/2: Perceptron(max_iter=10000, random_state=42, tol=0.0001)\n",
            "\\Accuracy Perceptron for Linear Perceptron RBF kernel data with gamma 1/2: 0.45447330447330453\n",
            "\\F1 Perceptron for Linear Perceptron with RBF kernel data with gamma 1/2: 0.2742614455611649\n",
            "\n",
            " Best Parameter for Linear Perceptron with RBF kernel data with gamma 1/10: Perceptron(max_iter=10000, random_state=42, tol=0.0001)\n",
            "\\Accuracy Perceptron for Linear Perceptron with RBF kernel data with gamma 1/10: 0.33189033189033196\n",
            "\\F1 Perceptron for Linear Perceptron with RBF kernel data with gamma 1/10: 0.12607037755737666\n"
          ]
        }
      ]
    },
    {
      "cell_type": "markdown",
      "source": [
        "While using gamma as 1, 1/2, 1/10 and 1/3.71, 1/3.71 provided better result which has accuracy of 0.59 and F1-score of 0.46."
      ],
      "metadata": {
        "id": "T5UJayAJlMW1"
      }
    },
    {
      "cell_type": "markdown",
      "source": [
        "# b) Do the same as a) above with the Logistic Regression classifier. Tune the max_iter parameter to obtain best results.\n"
      ],
      "metadata": {
        "id": "3CSA1GGtaP7D"
      }
    },
    {
      "cell_type": "markdown",
      "source": [
        "Logistic Regression Analysis"
      ],
      "metadata": {
        "id": "lw5UIXF-drzy"
      }
    },
    {
      "cell_type": "code",
      "source": [
        "\n",
        "\n",
        "print(\"Evaluating Logistic Regression...\")\n",
        "lRegression = LogisticRegression()\n",
        "regression_param_grid = {\n",
        "                        'max_iter': [10000, 9000, 5000, 12000, 15000],\n",
        "                        'random_state': [0, 1, 42]\n",
        "                         }\n",
        "\n",
        "best_regression, accuracy_regression, f1_regression = tune_and_evaluate(\n",
        "    lRegression, regression_param_grid, X_scaled, y, \"Logistic Regression on Raw Data\"\n",
        ")\n",
        "\n",
        "best_regression_rbf, accuracy_regression_rbf, f1_regression_rbf = tune_and_evaluate(\n",
        "    lRegression, regression_param_grid, X_rbf, y, \"Logistic Regression with RBF Kernel\"\n",
        ")\n",
        "\n",
        "print(f\"\\n Best Parameter for Logistic Regression with raw data: {best_regression}\")\n",
        "print(f\"\\Accuracy Regression for Logistic Regression with raw data: {accuracy_regression}\")\n",
        "print(f\"\\F1 Regression for Logistic Regression with raw data: {f1_regression}\")\n",
        "\n",
        "print(f\"\\n Best Parameter for Logistic Regression with RBF Kernel: {best_regression_rbf}\")\n",
        "print(f\"\\Accuracy Regression for Logistic Regression with RBF Kernel: {accuracy_regression_rbf}\")\n",
        "print(f\"\\F1 Regression for Logistic Regression with RBF Kernel: {f1_regression_rbf}\")"
      ],
      "metadata": {
        "colab": {
          "base_uri": "https://localhost:8080/"
        },
        "id": "nJ_yThJaaQeF",
        "outputId": "8c5e1c9e-a711-4b1a-e1b8-26387d0b516a"
      },
      "execution_count": null,
      "outputs": [
        {
          "output_type": "stream",
          "name": "stdout",
          "text": [
            "Evaluating Logistic Regression...\n",
            "\n",
            "Best parameters for Logistic Regression on Raw Data: {'max_iter': 10000, 'random_state': 0}\n",
            "Mean Accuracy: 0.5468\n",
            "Mean F1 Score (Macro): 0.4001\n",
            "\n",
            "Best parameters for Logistic Regression with RBF Kernel: {'max_iter': 10000, 'random_state': 0}\n",
            "Mean Accuracy: 0.6833\n",
            "Mean F1 Score (Macro): 0.5403\n",
            "\n",
            " Best Parameter for Logistic Regression with raw data: LogisticRegression(max_iter=10000, random_state=0)\n",
            "\\Accuracy Regression for Logistic Regression with raw data: 0.5467532467532468\n",
            "\\F1 Regression for Logistic Regression with raw data: 0.4001471080581324\n",
            "\n",
            " Best Parameter for Logistic Regression with RBF Kernel: LogisticRegression(max_iter=10000, random_state=0)\n",
            "\\Accuracy Regression for Logistic Regression with RBF Kernel: 0.6833333333333336\n",
            "\\F1 Regression for Logistic Regression with RBF Kernel: 0.5403176567640493\n"
          ]
        }
      ]
    },
    {
      "cell_type": "markdown",
      "source": [
        "**Comparison Between Logistic Regression using and not using Kernel**"
      ],
      "metadata": {
        "id": "PMBEA1pGmqRr"
      }
    },
    {
      "cell_type": "markdown",
      "source": [
        "Before using RBF Kernel, Accuracy for Logistic Regression was 0.5418 and F1-score was 0.3926. But, after the use of Kernel Accuracy for Logistic Regression increased to 0.6879 and F1-score increased to 0.5369.\n",
        "\n",
        "This is because, RBF Kernel introduced the non-linearity to the data so that hyperplane could separate the class better.\n",
        "\n",
        "Also, max_iter '1000' is good for Logistic Regression as seen above."
      ],
      "metadata": {
        "id": "DmWidgydmbh4"
      }
    },
    {
      "cell_type": "markdown",
      "source": [
        "**Logistic Regression Analysis using different RBF Kernel Gamma Values**"
      ],
      "metadata": {
        "id": "bYtQkvCHnj_n"
      }
    },
    {
      "cell_type": "code",
      "source": [
        "\n",
        "# a) For Logistic Regression\n",
        "print(\"Evaluating Logistic Regression...\")\n",
        "lRegression = LogisticRegression()\n",
        "regression_param_grid = {\n",
        "                        'max_iter': [10000],\n",
        "                        'random_state': [0]\n",
        "                         }\n",
        "\n",
        "best_regression_rbf1, accuracy_regression_rbf1, f1_regression_rbf1 = tune_and_evaluate(\n",
        "    lRegression, regression_param_grid, X_rbf1, y, \"Logistic Regression with RBF Kernel with tot_input_headers times mean variance(scaled)\"\n",
        ")\n",
        "\n",
        "best_regression_rbf2, accuracy_regression_rbf2, f1_regression_rbf2 = tune_and_evaluate(\n",
        "    lRegression, regression_param_grid, X_rbf2, y, \"Logistic Regression with RBF Kernel data with gamma 1\"\n",
        ")\n",
        "\n",
        "best_regression_rbf3, accuracy_regression_rbf3, f1_regression_rbf3 = tune_and_evaluate(\n",
        "    lRegression, regression_param_grid, X_rbf3, y, \"Logistic Regression with RBF Kernel data with gamma 1/2\"\n",
        ")\n",
        "\n",
        "best_regression_rbf4, accuracy_regression_rbf4, f1_regression_rbf4 = tune_and_evaluate(\n",
        "    lRegression, regression_param_grid, X_rbf4, y, \"Logistic Regression with RBF Kernel data with gamma 1\"\n",
        ")\n",
        "\n",
        "print(f\"\\n Best Parameter for Logistic Regression with RBF Kernel  with tot_input_headers times mean variance(scaled): {best_regression_rbf1}\")\n",
        "print(f\"\\Accuracy Regression for Logistic Regression with RBFKernel  with tot_input_headers times mean variance(scaled): {accuracy_regression_rbf1}\")\n",
        "print(f\"\\F1 Regression for Logistic Regression with RBF Kernel  with tot_input_headers times mean variance(scaled): {f1_regression_rbf1}\")\n",
        "\n",
        "print(f\"\\n Best Parameter for Logistic Regression with RBF Kernel 1  {best_regression_rbf2}\")\n",
        "print(f\"\\Accuracy Regression for Logistic Regression with RBF Kernel 1: {accuracy_regression_rbf2}\")\n",
        "print(f\"\\F1 Regression for Logistic Regression with RBF Kernel 1: {f1_regression_rbf2}\")\n",
        "\n",
        "print(f\"\\n Best Parameter for Logistic Regression with RBF Kernel 1/2:  {best_regression_rbf3}\")\n",
        "print(f\"\\Accuracy Regression for Logistic Regression with RBF Kernel 1/2: {accuracy_regression_rbf3}\")\n",
        "print(f\"\\F1 Regression for Logistic Regression with RBF Kernel 1/2: {f1_regression_rbf3}\")\n",
        "\n",
        "print(f\"\\n Best Parameter for Logistic Regression with RBF Kernel 1/10:  {best_regression_rbf4}\")\n",
        "print(f\"\\Accuracy Regression for Logistic Regression with RBF Kernel 1/10: {accuracy_regression_rbf4}\")\n",
        "print(f\"\\F1 Regression for Logistic Regression with RBF Kernel 1/10: {f1_regression_rbf4}\")"
      ],
      "metadata": {
        "colab": {
          "base_uri": "https://localhost:8080/"
        },
        "id": "Ip6v9qEunnV8",
        "outputId": "3fb0ba50-597f-430f-d4f6-bba9f55466db"
      },
      "execution_count": null,
      "outputs": [
        {
          "output_type": "stream",
          "name": "stdout",
          "text": [
            "Evaluating Logistic Regression...\n",
            "\n",
            "Best parameters for Logistic Regression with RBF Kernel with tot_input_headers times mean variance(scaled): {'max_iter': 10000, 'random_state': 0}\n",
            "Mean Accuracy: 0.6803\n",
            "Mean F1 Score (Macro): 0.5460\n",
            "\n",
            "Best parameters for Logistic Regression with RBF Kernel data with gamma 1: {'max_iter': 10000, 'random_state': 0}\n",
            "Mean Accuracy: 0.6558\n",
            "Mean F1 Score (Macro): 0.4936\n",
            "\n",
            "Best parameters for Logistic Regression with RBF Kernel data with gamma 1/2: {'max_iter': 10000, 'random_state': 0}\n",
            "Mean Accuracy: 0.6479\n",
            "Mean F1 Score (Macro): 0.4651\n",
            "\n",
            "Best parameters for Logistic Regression with RBF Kernel data with gamma 1: {'max_iter': 10000, 'random_state': 0}\n",
            "Mean Accuracy: 0.4981\n",
            "Mean F1 Score (Macro): 0.3171\n",
            "\n",
            " Best Parameter for Logistic Regression with RBF Kernel  with tot_input_headers times mean variance(scaled): LogisticRegression(max_iter=10000, random_state=0)\n",
            "\\Accuracy Regression for Logistic Regression with RBFKernel  with tot_input_headers times mean variance(scaled): 0.6803030303030303\n",
            "\\F1 Regression for Logistic Regression with RBF Kernel  with tot_input_headers times mean variance(scaled): 0.5459606048792345\n",
            "\n",
            " Best Parameter for Logistic Regression with RBF Kernel 1  LogisticRegression(max_iter=10000, random_state=0)\n",
            "\\Accuracy Regression for Logistic Regression with RBF Kernel 1: 0.6558441558441559\n",
            "\\F1 Regression for Logistic Regression with RBF Kernel 1: 0.49359966833086805\n",
            "\n",
            " Best Parameter for Logistic Regression with RBF Kernel 1/2:  LogisticRegression(max_iter=10000, random_state=0)\n",
            "\\Accuracy Regression for Logistic Regression with RBF Kernel 1/2: 0.6479076479076481\n",
            "\\F1 Regression for Logistic Regression with RBF Kernel 1/2: 0.4650666225902294\n",
            "\n",
            " Best Parameter for Logistic Regression with RBF Kernel 1/10:  LogisticRegression(max_iter=10000, random_state=0)\n",
            "\\Accuracy Regression for Logistic Regression with RBF Kernel 1/10: 0.4980519480519481\n",
            "\\F1 Regression for Logistic Regression with RBF Kernel 1/10: 0.3171188247071889\n"
          ]
        }
      ]
    },
    {
      "cell_type": "markdown",
      "source": [
        "While using gamma as 1, 1/2, 1/10 and 1/3.71, 1/3.71 provided better result which has accuracy of 0.68 and F1-score of 0.53."
      ],
      "metadata": {
        "id": "7P10t2y8sRPs"
      }
    },
    {
      "cell_type": "markdown",
      "source": [
        "**Comparison between Linear Perceptron and Logistic Regression(both using Kernel)**"
      ],
      "metadata": {
        "id": "C-BBuMKrmv5K"
      }
    },
    {
      "cell_type": "markdown",
      "source": [
        "Between Linear Perceptron and Logistic Regression, **Logistic Regression** turns out to be the better one with Accuracy of 0.68 and F1-score of 0.5344 than that of Linear Perceptron with Accuracy of 0.5680 and F1-score of 0.4872.\n",
        "\n",
        "Logistic regression works better than Linear Perceptron because, it can predict the probabilities of output but Linear Perceptron cannot."
      ],
      "metadata": {
        "id": "IAc_ILc3m5ZY"
      }
    },
    {
      "cell_type": "markdown",
      "source": [
        "# c) Do the same as above with the Multilayer Perceptron classifier. Tune the max_iter and n_iter_no_change (patience) parameters to obtain best results.\n"
      ],
      "metadata": {
        "id": "qeIViKgueM0m"
      }
    },
    {
      "cell_type": "markdown",
      "source": [
        "\n",
        "MultiLayer Perceptron(MLP)\n",
        "\n",
        "\n"
      ],
      "metadata": {
        "id": "Fl5DJrHWtth_"
      }
    },
    {
      "cell_type": "code",
      "source": [
        "print(\"\\nEvaluating Multilayer Perceptron...\")\n",
        "mlp = MLPClassifier()\n",
        "mlp_param_grid = {\n",
        "    'solver': ['adam'],\n",
        "    'tol': [0.0001],\n",
        "    'max_iter': [10000, 9000, 11000],\n",
        "    'n_iter_no_change': [3,5,7],\n",
        "    'random_state':[0]\n",
        "}\n",
        "best_mlp, accuracy_mlp, f1_mlp = tune_and_evaluate(\n",
        "    mlp, mlp_param_grid, X_scaled, y, \"Multilayer Perceptron on Raw Data\"\n",
        ")\n",
        "best_mlp_rbf, accuracy_mlp_rbf, f1_mlp_rbf = tune_and_evaluate(\n",
        "    mlp, mlp_param_grid, X_rbf, y, \"Multilayer Perceptron with RBF Kernel\"\n",
        ")\n",
        "\n",
        "print(f\"\\n Best Parameter for MLP with raw data: {best_mlp}\")\n",
        "print(f\"\\Accuracy Regression for MLP with raw data: {accuracy_mlp}\")\n",
        "print(f\"\\F1 Regression for MLP with raw data: {f1_mlp}\")\n",
        "\n",
        "print(f\"\\n Best Parameter for MLP with RBF Kernel: {best_mlp_rbf}\")\n",
        "print(f\"\\Accuracy Regression for MLP with RBF Kernel: {accuracy_mlp_rbf}\")\n",
        "print(f\"\\F1 Regression for MLP with RBF Kernel: {f1_mlp_rbf}\")"
      ],
      "metadata": {
        "colab": {
          "base_uri": "https://localhost:8080/"
        },
        "id": "x5sQXQnrt0fC",
        "outputId": "a62cc5ae-ce72-4ddc-c851-ea1630bfe08c"
      },
      "execution_count": null,
      "outputs": [
        {
          "output_type": "stream",
          "name": "stdout",
          "text": [
            "\n",
            "Evaluating Multilayer Perceptron...\n",
            "\n",
            "Best parameters for Multilayer Perceptron on Raw Data: {'max_iter': 10000, 'n_iter_no_change': 3, 'random_state': 0, 'solver': 'adam', 'tol': 0.0001}\n",
            "Mean Accuracy: 0.7089\n",
            "Mean F1 Score (Macro): 0.6310\n",
            "\n",
            "Best parameters for Multilayer Perceptron with RBF Kernel: {'max_iter': 10000, 'n_iter_no_change': 3, 'random_state': 0, 'solver': 'adam', 'tol': 0.0001}\n",
            "Mean Accuracy: 0.7287\n",
            "Mean F1 Score (Macro): 0.6301\n",
            "\n",
            " Best Parameter for MLP with raw data: MLPClassifier(max_iter=10000, n_iter_no_change=3, random_state=0)\n",
            "\\Accuracy Regression for MLP with raw data: 0.7089466089466092\n",
            "\\F1 Regression for MLP with raw data: 0.6309756730160553\n",
            "\n",
            " Best Parameter for MLP with RBF Kernel: MLPClassifier(max_iter=10000, n_iter_no_change=3, random_state=0)\n",
            "\\Accuracy Regression for MLP with RBF Kernel: 0.7287157287157289\n",
            "\\F1 Regression for MLP with RBF Kernel: 0.6300574413388836\n"
          ]
        }
      ]
    },
    {
      "cell_type": "markdown",
      "source": [
        "**Comparison Between MLP using and not using Kernel**"
      ],
      "metadata": {
        "id": "5IWZie-Z2RSJ"
      }
    },
    {
      "cell_type": "markdown",
      "source": [
        "Before using RBF Kernel, Accuracy for MLP was 0.7330 and F1-score was 0.6901. But, after the use of Kernel Accuracy for MLP decreased slightly to 0.7275 and F1-score decreased to 0.6471.\n",
        "\n",
        "This is because MLP in itself is a non-linear model and fits perfectly for raw data, using RBF kernel introduced non-linearity to its already existed one, which may have caused model to overfit.\n",
        "\n",
        "Also, max_iter '1000' and n_iter_no_change = '3' is good for MLP as seen above."
      ],
      "metadata": {
        "id": "002Nf0HP1MqP"
      }
    },
    {
      "cell_type": "markdown",
      "source": [
        "# d) Compare the performance (in terms of classification accuracy and F value for each class) between the Multilayer Perceptron and the best performing of the Linear Perceptron and Logistic Regression models and comment on the effectiveness of the RBF Kernel in reducing overlap between classes."
      ],
      "metadata": {
        "id": "9DdhXRKe2j8Z"
      }
    },
    {
      "cell_type": "markdown",
      "source": [
        "**Classwise Accuracy and F1-Score of Logistic Regression Without Using Kernel**"
      ],
      "metadata": {
        "id": "NGr1HGPR2mxp"
      }
    },
    {
      "cell_type": "code",
      "source": [
        "np.seterr(divide='ignore', invalid='ignore')\n",
        "\n",
        "kFold = RepeatedKFold(n_splits=10,  n_repeats=3, random_state = 0)\n",
        "f1_scores = []\n",
        "acc_scores = []\n",
        "\n",
        "log_regression = LogisticRegression(max_iter=10000,random_state=0)\n",
        "\n",
        "X_n =  pd.DataFrame(X_scaled)\n",
        "\n",
        "for tr_index, te_index in kFold.split(X_n, y):\n",
        "  X_train, X_test = X_n.iloc[tr_index], X_n.iloc[te_index]\n",
        "  y_train, y_test = y.iloc[tr_index], y.iloc[te_index]\n",
        "  log_regression.fit(X_train,y_train)\n",
        "  y_pred = log_regression.predict(X_test)\n",
        "\n",
        "  f1_scor = f1_score(y_test, y_pred, average=None)\n",
        "  f1_scores.append(f1_scor)\n",
        "\n",
        "  cm = confusion_matrix(y_test, y_pred)\n",
        "  cm = cm.astype('float') / cm.sum(axis=1)[:, np.newaxis]\n",
        "  acc_scores.append(cm.diagonal())\n",
        "\n",
        "\n",
        "acc_scores_scores_df = pd.DataFrame(acc_scores, columns=['1','2', '3', '5', '6', '7'])\n",
        "print(\"ClassWise Distribution of Accuracy score: \")\n",
        "print(acc_scores_scores_df.mean())\n",
        "print(\"Mean Accuracy Scores\")\n",
        "print(acc_scores_scores_df.mean().mean())\n",
        "\n",
        "\n",
        "f1_scores_df = pd.DataFrame(f1_scores, columns=['1','2', '3', '5', '6', '7'])\n",
        "print(\"ClassWise Distribution of F1 score: \")\n",
        "print(f1_scores_df.mean())\n",
        "print(\"Mean F1\")\n",
        "print(f1_scores_df.mean().mean())\n",
        "\n",
        "\n"
      ],
      "metadata": {
        "colab": {
          "base_uri": "https://localhost:8080/"
        },
        "id": "7XVyHiuuTanO",
        "outputId": "534a9c00-07e2-4b81-8418-8dbbb050e396"
      },
      "execution_count": null,
      "outputs": [
        {
          "output_type": "stream",
          "name": "stdout",
          "text": [
            "ClassWise Distribution of Accuracy score: \n",
            "1    0.722930\n",
            "2    0.575215\n",
            "3    0.016667\n",
            "5    0.242143\n",
            "6    0.413043\n",
            "7    0.893939\n",
            "dtype: float64\n",
            "Mean Accuracy Scores\n",
            "0.4773230231925883\n",
            "ClassWise Distribution of F1 score: \n",
            "1    0.592038\n",
            "2    0.516838\n",
            "3    0.022222\n",
            "5    0.263980\n",
            "6    0.369854\n",
            "7    0.737085\n",
            "dtype: float64\n",
            "Mean F1\n",
            "0.4170028930892887\n"
          ]
        }
      ]
    },
    {
      "cell_type": "markdown",
      "source": [
        "**Classwise Accuracy and F1-Score of Logistic Regression Using Kernel**"
      ],
      "metadata": {
        "id": "gtbTpZRpfWJs"
      }
    },
    {
      "cell_type": "code",
      "source": [
        "np.seterr(divide='ignore', invalid='ignore')\n",
        "\n",
        "kFold = RepeatedKFold(n_splits=10,  n_repeats=3, random_state = 0)\n",
        "f1_scores = []\n",
        "acc_scores = []\n",
        "\n",
        "log_regression = LogisticRegression(max_iter=10000,random_state=0)\n",
        "\n",
        "X_n =  pd.DataFrame(X_rbf)\n",
        "\n",
        "for tr_index, te_index in kFold.split(X_n, y):\n",
        "  X_train, X_test = X_n.iloc[tr_index], X_n.iloc[te_index]\n",
        "  y_train, y_test = y.iloc[tr_index], y.iloc[te_index]\n",
        "  log_regression.fit(X_train,y_train)\n",
        "  y_pred = log_regression.predict(X_test)\n",
        "\n",
        "  f1_scor = f1_score(y_test, y_pred, average=None)\n",
        "  f1_scores.append(f1_scor)\n",
        "\n",
        "  cm = confusion_matrix(y_test, y_pred)\n",
        "  cm = cm.astype('float') / cm.sum(axis=1)[:, np.newaxis]\n",
        "  acc_scores.append(cm.diagonal())\n",
        "\n",
        "\n",
        "acc_scores_scores_df = pd.DataFrame(acc_scores, columns=['1','2', '3', '5', '6', '7'])\n",
        "print(\"ClassWise Distribution of Accuracy score: \")\n",
        "print(acc_scores_scores_df.mean())\n",
        "print(\"Mean Accuracy Scores\")\n",
        "print(acc_scores_scores_df.mean().mean())\n",
        "\n",
        "\n",
        "f1_scores_df = pd.DataFrame(f1_scores, columns=['1','2', '3', '5', '6', '7'])\n",
        "print(\"ClassWise Distribution of F1 score: \")\n",
        "print(f1_scores_df.mean())\n",
        "print(\"Mean F1\")\n",
        "print(f1_scores_df.mean().mean())\n",
        "\n",
        "\n"
      ],
      "metadata": {
        "colab": {
          "base_uri": "https://localhost:8080/"
        },
        "id": "cyMn0YsSfcJI",
        "outputId": "419f81ff-7189-4608-afdf-e678e60902a4"
      },
      "execution_count": null,
      "outputs": [
        {
          "output_type": "stream",
          "name": "stdout",
          "text": [
            "ClassWise Distribution of Accuracy score: \n",
            "1    0.831225\n",
            "2    0.686747\n",
            "3    0.088889\n",
            "5    0.644444\n",
            "6    0.639652\n",
            "7    0.898810\n",
            "dtype: float64\n",
            "Mean Accuracy Scores\n",
            "0.6316279091279091\n",
            "ClassWise Distribution of F1 score: \n",
            "1    0.717316\n",
            "2    0.660405\n",
            "3    0.094444\n",
            "5    0.490000\n",
            "6    0.651499\n",
            "7    0.850113\n",
            "dtype: float64\n",
            "Mean F1\n",
            "0.5772964027788884\n"
          ]
        }
      ]
    },
    {
      "cell_type": "markdown",
      "source": [
        "If we compare accuracy and F1_score of Logistic Regression with and without using the Kernel, using the Kernel gives the better result. This can be distinctly seen between class 1 and class 2. As we visualised in T-sne Plot, it was hard to distinguish between 1 and 2 without using Kernel but somewhat easier after applying rbf kernel.\n",
        "\n",
        "Here also accuracy of 1 was 0.722930 and 2 was 0.575215 without using the kernel. But after using Kernel accuracy increased to 0.831225 for 1 0.686747 and for 2.\n",
        "\n",
        "Also F1 score of 1 was 0.592038 and 2  was 0.516838 without using the kernel. But after using Kernel F1 score increased to 0.717316 for 1 0.660405 and for 2."
      ],
      "metadata": {
        "id": "SmYSkYiufjHz"
      }
    },
    {
      "cell_type": "markdown",
      "source": [
        "**Comparison of class wise Comparison of MLP without using Kernel**"
      ],
      "metadata": {
        "id": "Zr-oUtRPfvLW"
      }
    },
    {
      "cell_type": "code",
      "source": [
        "np.seterr(divide='ignore', invalid='ignore')\n",
        "\n",
        "kFold = RepeatedKFold(n_splits=10,  n_repeats=3, random_state = 0)\n",
        "f_score = []\n",
        "acc_scores = []\n",
        "\n",
        "MLPmodel = MLPClassifier(\n",
        "    solver='adam', tol=0.0001, n_iter_no_change=7,\n",
        "    max_iter=10000, random_state=0\n",
        ")\n",
        "\n",
        "X_n =  pd.DataFrame(X_scaled)\n",
        "\n",
        "for tr_index, te_index in kFold.split(X_n, y):\n",
        "  X_train, X_test = X_n.iloc[tr_index], X_n.iloc[te_index]\n",
        "  y_train, y_test = y.iloc[tr_index], y.iloc[te_index]\n",
        "  MLPmodel.fit(X_train,y_train)\n",
        "  y_pred = MLPmodel.predict(X_test)\n",
        "\n",
        "  f1_scor = f1_score(y_test, y_pred, average=None)\n",
        "  f1_scores.append(f1_scor)\n",
        "\n",
        "  cm = confusion_matrix(y_test, y_pred)\n",
        "  cm = cm.astype('float') / cm.sum(axis=1)[:, np.newaxis]\n",
        "  acc_scores.append(cm.diagonal())\n",
        "\n",
        "\n",
        "acc_scores_scores_df = pd.DataFrame(acc_scores, columns=['1','2', '3', '5', '6', '7'])\n",
        "print(\"ClassWise Distribution of Accuracy score: \")\n",
        "print(acc_scores_scores_df.mean())\n",
        "print(\"Mean Accuracy Scores\")\n",
        "print(acc_scores_scores_df.mean().mean())\n",
        "\n",
        "\n",
        "f1_scores_df = pd.DataFrame(f1_scores, columns=['1','2', '3', '5', '6', '7'])\n",
        "print(\"ClassWise Distribution of F1 score: \")\n",
        "print(f1_scores_df.mean())\n",
        "print(\"Mean F1\")\n",
        "print(f1_scores_df.mean().mean())\n",
        "\n"
      ],
      "metadata": {
        "colab": {
          "base_uri": "https://localhost:8080/"
        },
        "id": "pf83rM0Ef6rU",
        "outputId": "5d76c5c4-4821-4bf9-d080-551b7ecde727"
      },
      "execution_count": null,
      "outputs": [
        {
          "output_type": "stream",
          "name": "stdout",
          "text": [
            "ClassWise Distribution of Accuracy score: \n",
            "1    0.753301\n",
            "2    0.732543\n",
            "3    0.326923\n",
            "5    0.722085\n",
            "6    0.798667\n",
            "7    0.952381\n",
            "dtype: float64\n",
            "Mean Accuracy Scores\n",
            "0.7143167062822235\n",
            "ClassWise Distribution of F1 score: \n",
            "1    0.710569\n",
            "2    0.682608\n",
            "3    0.200873\n",
            "5    0.576178\n",
            "6    0.711346\n",
            "7    0.903628\n",
            "dtype: float64\n",
            "Mean F1\n",
            "0.630867102297326\n"
          ]
        }
      ]
    },
    {
      "cell_type": "markdown",
      "source": [
        "**Comparison of class wise Comparison of MLP with using Kernel**"
      ],
      "metadata": {
        "id": "8707YJgyhO4w"
      }
    },
    {
      "cell_type": "code",
      "source": [
        "\n",
        "np.seterr(divide='ignore', invalid='ignore')\n",
        "\n",
        "kFold = RepeatedKFold(n_splits=10,  n_repeats=3, random_state = 0)\n",
        "f_score = []\n",
        "acc_scores = []\n",
        "\n",
        "MLPmodel = MLPClassifier(\n",
        "    solver='adam', tol=0.0001, n_iter_no_change=7,\n",
        "    max_iter=10000, random_state=0\n",
        ")\n",
        "\n",
        "X_n =  pd.DataFrame(X_rbf)\n",
        "\n",
        "for tr_index, te_index in kFold.split(X_n, y):\n",
        "  X_train, X_test = X_n.iloc[tr_index], X_n.iloc[te_index]\n",
        "  y_train, y_test = y.iloc[tr_index], y.iloc[te_index]\n",
        "  MLPmodel.fit(X_train,y_train)\n",
        "  y_pred = MLPmodel.predict(X_test)\n",
        "\n",
        "  f1_scor = f1_score(y_test, y_pred, average=None)\n",
        "  f1_scores.append(f1_scor)\n",
        "\n",
        "  cm = confusion_matrix(y_test, y_pred)\n",
        "  cm = cm.astype('float') / cm.sum(axis=1)[:, np.newaxis]\n",
        "  acc_scores.append(cm.diagonal())\n",
        "\n",
        "\n",
        "acc_scores_scores_df = pd.DataFrame(acc_scores, columns=['1','2', '3', '5', '6', '7'])\n",
        "print(\"ClassWise Distribution of Accuracy score: \")\n",
        "print(acc_scores_scores_df.mean())\n",
        "print(\"Mean Accuracy Scores\")\n",
        "print(acc_scores_scores_df.mean().mean())\n",
        "\n",
        "\n",
        "f1_scores_df = pd.DataFrame(f1_scores, columns=['1','2', '3', '5', '6', '7'])\n",
        "print(\"ClassWise Distribution of F1 score: \")\n",
        "print(f1_scores_df.mean())\n",
        "print(\"Mean F1\")\n",
        "print(f1_scores_df.mean().mean())\n",
        "\n"
      ],
      "metadata": {
        "colab": {
          "base_uri": "https://localhost:8080/"
        },
        "id": "mrK0jurZhOVV",
        "outputId": "f78cf0f9-808c-4a4e-eef8-d2df5503580e"
      },
      "execution_count": null,
      "outputs": [
        {
          "output_type": "stream",
          "name": "stdout",
          "text": [
            "ClassWise Distribution of Accuracy score: \n",
            "1    0.791017\n",
            "2    0.745997\n",
            "3    0.318452\n",
            "5    0.780864\n",
            "6    0.734722\n",
            "7    0.886508\n",
            "dtype: float64\n",
            "Mean Accuracy Scores\n",
            "0.7095934877879323\n",
            "ClassWise Distribution of F1 score: \n",
            "1    0.723283\n",
            "2    0.692565\n",
            "3    0.238730\n",
            "5    0.610040\n",
            "6    0.694552\n",
            "7    0.895939\n",
            "dtype: float64\n",
            "Mean F1\n",
            "0.6425182499886891\n"
          ]
        }
      ]
    },
    {
      "cell_type": "markdown",
      "source": [
        "**Comparison of Logistic Regression and MLP**\n",
        "\n",
        "\n"
      ],
      "metadata": {
        "id": "ePaEvCwYidoB"
      }
    },
    {
      "cell_type": "markdown",
      "source": [
        "Comparison without using Kernel:\n",
        "When looking at accuracy and F1-score without using Kernel, MLP has higher accuracy and F1 score than that of Logistic Regression.\n",
        "\n",
        "Accuracy for Logistic Regression:\n",
        "**1.** 0.72 **2.**0.57 **3.**0.017 **5.**0.24 **6.**0.41 **7.**0.89\n",
        "\n",
        "F1 score for Logistic Regression:\n",
        "**1.**0.59 **2.**0.51 **3.**0.02 **5.**0.26 **6.**0.37 **7.**0.73\n",
        "\n",
        "\n",
        "Accuracy for MLP:\n",
        "**1.** 0.75 **2.**0.73 **3.**0.327 **5.**0.72 **6.**0.79 **7.**0.95\n",
        "\n",
        "F1 score for mlp:\n",
        "**1.**0.68 **2.**0.63 **3.**0.13 **5.**0.47 **6.**0.62 **7.**0.85\n",
        "\n",
        "This is because, without using Kernel, the separation for Logistic Regression is a line which doesn't provide good results for data which is not linearly separable, but MLP is a non-linear classifier and provides good result for non-linear dataset.\n",
        "\n",
        "\n",
        "While using Kernel, Logistic Regression has slightly better result for class 1, class 2 and class 7. This is the class which has more data than other classes.\n",
        "This can be because using Kernel with MLP may have led to overfitting.\n",
        "\n",
        "Accuracy for Logistic Regression: **1.** 0.83 **2.**0.68 **3.**0.089 **5.**0.64 **6.**0.64 **7.**0.90\n",
        "\n",
        "F1 score for Logistic Regression:\n",
        "**1.**0.71 **2.**0.66 **3.**0.094 **5.**0.49 **6.**0.65 **7.**0.85\n",
        "\n",
        "\n",
        "Accuracy for MLP:\n",
        "**1.** 0.79 **2.**0.74 **3.**0.32 **5.**0.78 **6.**0.73 **7.**0.88\n",
        "\n",
        "F1 score for mlp:\n",
        "**1.**0.69 **2.**0.65 **3.**0.16 **5.**0.51 **6.**0.628 **7.**0.86\n",
        "\n",
        "This is because, without using Kernel, the separation for Logistic Regression is a line which doesn't provide good results for data which is not linearly separable, but MLP is a non-linear classifier and provides good result for non-linear dataset."
      ],
      "metadata": {
        "id": "Oovw4hkSiOJq"
      }
    },
    {
      "cell_type": "markdown",
      "source": [
        "# **Requirement R3**"
      ],
      "metadata": {
        "id": "Ax5Lxa8eimwQ"
      }
    },
    {
      "cell_type": "markdown",
      "source": [
        "# a) Apply the train/test partition to the pre-processed data (including the application of the RBF Kernal). Use a 70/30 split."
      ],
      "metadata": {
        "id": "DDY6gBV-e9cs"
      }
    },
    {
      "cell_type": "code",
      "source": [
        "\n",
        "\n",
        "X_train, X_test, y_train, y_test = train_test_split(X_rbf, y, test_size=0.3, random_state=42)\n",
        "\n",
        "print(f\"Original training set size: {X_train.shape[0]}\")\n",
        "\n"
      ],
      "metadata": {
        "colab": {
          "base_uri": "https://localhost:8080/"
        },
        "id": "fkEKVWNDiiLv",
        "outputId": "eb00983b-b80c-4df9-95c0-e29292a25e63"
      },
      "execution_count": null,
      "outputs": [
        {
          "output_type": "stream",
          "name": "stdout",
          "text": [
            "Original training set size: 149\n",
            "Resampled training set size: 318\n"
          ]
        }
      ]
    },
    {
      "cell_type": "markdown",
      "source": [
        "# b) Take the train split and apply the Resample method to double the size of the training set."
      ],
      "metadata": {
        "id": "E6gCGIcAfGgs"
      }
    },
    {
      "cell_type": "code",
      "source": [
        "smote = SMOTE(sampling_strategy='auto', random_state=42)\n",
        "\n",
        "X_train_resampled, y_train_resampled = smote.fit_resample(X_train, y_train)\n",
        "\n",
        "print(f\"Resampled training set size: {X_train_resampled.shape[0]}\")"
      ],
      "metadata": {
        "id": "oc9auZ8LfFxw"
      },
      "execution_count": null,
      "outputs": []
    },
    {
      "cell_type": "markdown",
      "source": [
        "# c)  Retrain whichever linear classifier that turned out to be the best from R2 on the scaled-up training set.\n",
        "\n",
        "# d) Now deploy the model on the test partition and display the F measure values for all of the classes. By comparing your results with those from R2 d), how would you assess the success of scaling the dataset?"
      ],
      "metadata": {
        "id": "fqSx6t6XfOUc"
      }
    },
    {
      "cell_type": "code",
      "source": [
        "best_regression_rbf.fit(X_train_resampled, y_train_resampled)\n",
        "y_pred = best_regression_rbf.predict(X_test)\n",
        "print(\"Classification Report:\")\n",
        "print(classification_report(y_test, y_pred))"
      ],
      "metadata": {
        "colab": {
          "base_uri": "https://localhost:8080/"
        },
        "id": "UFH2mwn9j3io",
        "outputId": "d1c4998d-696e-4f94-df44-e866d7d152f2"
      },
      "execution_count": null,
      "outputs": [
        {
          "output_type": "stream",
          "name": "stdout",
          "text": [
            "Classification Report:\n",
            "              precision    recall  f1-score   support\n",
            "\n",
            "           1       0.64      0.74      0.68        19\n",
            "           2       0.76      0.57      0.65        23\n",
            "           3       0.17      0.25      0.20         4\n",
            "           5       0.71      0.83      0.77         6\n",
            "           6       0.25      0.33      0.29         3\n",
            "           7       0.89      0.80      0.84        10\n",
            "\n",
            "    accuracy                           0.65        65\n",
            "   macro avg       0.57      0.59      0.57        65\n",
            "weighted avg       0.68      0.65      0.66        65\n",
            "\n"
          ]
        }
      ]
    },
    {
      "cell_type": "markdown",
      "source": [
        "#Key Observations:\n",
        "Accuracy: In R3, after scaling up the dataset using resampling, the accuracy slightly decreased from 0.6834 in R2 to 0.65 in R3.\n",
        "\n",
        "F1 Score (Macro): The macro F1 score increased from 0.5376 in R2 to 0.57 in R3, which indicates an improvement in the balance of the model's performance across all classes."
      ],
      "metadata": {
        "id": "60503bO3kN9O"
      }
    },
    {
      "cell_type": "markdown",
      "source": [
        "#Conclusion:\n",
        "The changes observed in the F-measure values after scaling up the dataset reveal a mixed impact. For Class 5, the F1-score improved significantly from 0.490 in R2 to 0.77 in R3, indicating that resampling was effective in enhancing performance for this class. Class 7 maintained its strong performance, with a slight decrease in the F1-score from 0.850 to 0.84, showing stability and reliability. However, Class 6 experienced a notable decline in F1-score, dropping from 0.651 to 0.29, suggesting that while resampling benefited other classes, it adversely affected this one. Classes 1 and 2 exhibited minimal changes, with F1-scores remaining relatively stable, indicating that resampling had a neutral impact on their performance. Class 3 saw some improvement, with its F1-score increasing from 0.094 to 0.20, but it still presents challenges that may require further model refinement. Overall, while resampling has shown positive results in some areas, it also highlights the need for additional strategies to address the issues with specific classes and ensure balanced performance across the board.\n",
        "\n",
        "  "
      ],
      "metadata": {
        "id": "lc1a-In3kOtn"
      }
    },
    {
      "cell_type": "markdown",
      "source": [
        "# **Requirements 4**"
      ],
      "metadata": {
        "id": "gKiogZ_4kemn"
      }
    },
    {
      "cell_type": "markdown",
      "source": [
        "# a) From the model that you generated in R3 steps a) to c), identify the two least significant predictors.\n"
      ],
      "metadata": {
        "id": "Os31HdOff6_v"
      }
    },
    {
      "cell_type": "markdown",
      "source": [
        "**Using input with Kernel**"
      ],
      "metadata": {
        "id": "kknuyWSckvdd"
      }
    },
    {
      "cell_type": "code",
      "source": [
        "print(f\"Number of features: {X_train.shape[1]}\")\n",
        "print(f\"Number of coefficients: {best_regression_rbf.coef_.shape[1]}\")\n"
      ],
      "metadata": {
        "colab": {
          "base_uri": "https://localhost:8080/"
        },
        "id": "dw_JrOcmkTFe",
        "outputId": "db4ed8e9-b924-4586-b6d4-55472a99d953"
      },
      "execution_count": null,
      "outputs": [
        {
          "output_type": "stream",
          "name": "stdout",
          "text": [
            "Number of features: 214\n",
            "Number of coefficients: 214\n"
          ]
        }
      ]
    },
    {
      "cell_type": "code",
      "source": [
        "\n",
        "coefficients = best_regression_rbf.coef_[0]\n",
        "\n",
        "abs_coefficients = np.abs(coefficients)\n",
        "\n",
        "\n",
        "if hasattr(X_train, 'columns'):\n",
        "    feature_names = X_train.columns\n",
        "else:\n",
        "    feature_names = np.arange(len(coefficients))\n",
        "\n",
        "\n",
        "least_significant_indices = np.argsort(abs_coefficients)[:2]\n",
        "\n",
        "\n",
        "least_significant_features = feature_names[least_significant_indices]\n",
        "print(\"Two least significant features:\")\n",
        "print(least_significant_features)\n"
      ],
      "metadata": {
        "colab": {
          "base_uri": "https://localhost:8080/"
        },
        "id": "DMmFzGogkig6",
        "outputId": "90d1bdf1-777b-4b71-fada-b32f42ffacf2"
      },
      "execution_count": null,
      "outputs": [
        {
          "output_type": "stream",
          "name": "stdout",
          "text": [
            "Two least significant features:\n",
            "[ 75 107]\n"
          ]
        }
      ]
    },
    {
      "cell_type": "markdown",
      "source": [
        "# b) Describe the method, together with your reasoning as to why the 2 features are the least significant.\n"
      ],
      "metadata": {
        "id": "TK_5owYtg7i9"
      }
    },
    {
      "cell_type": "markdown",
      "source": [
        "**Method used for feature selection:**\n",
        "Coefficent of every feature is taken from trained model. This coefficients gives the weight of every feature, this is then ordered in ascending order taking the absolute value. Now, the feature associated with lowest weights gives the least significant feature and higher weight gives the most significant feature.\n",
        "\n",
        "This is because, even if the feature value is high, if coefficients(weight) associated with it is low, its contribution is low to the output."
      ],
      "metadata": {
        "id": "GSocyzNfhLIi"
      }
    },
    {
      "cell_type": "markdown",
      "source": [
        "# c) Now drop these features and regenerate the model and display the F values for each of the classes."
      ],
      "metadata": {
        "id": "4V6yONURgRFY"
      }
    },
    {
      "cell_type": "code",
      "source": [
        "if hasattr(X_train, 'columns'):\n",
        "    least_significant_features = X_train.columns[[75, 107]]\n",
        "    X_train_reduced = X_train.drop(columns=least_significant_features)\n",
        "    X_test_reduced = X_test.drop(columns=least_significant_features)\n",
        "else:\n",
        "    X_train_reduced = np.delete(X_train, [75, 107], axis=1)\n",
        "    X_test_reduced = np.delete(X_test, [75, 107], axis=1)\n"
      ],
      "metadata": {
        "id": "FjRDJG6Ckmqz"
      },
      "execution_count": null,
      "outputs": []
    },
    {
      "cell_type": "code",
      "source": [
        "best_regression_rbf.fit(X_train_reduced, y_train)\n",
        "\n",
        "y_pred_reduced = best_regression_rbf.predict(X_test_reduced)\n"
      ],
      "metadata": {
        "id": "M0Vn-PYwkog5"
      },
      "execution_count": null,
      "outputs": []
    },
    {
      "cell_type": "code",
      "source": [
        "\n",
        "report_reduced = classification_report(y_test, y_pred_reduced, zero_division=1)\n",
        "print(\"Classification Report with Reduced Features:\")\n",
        "print(report_reduced)\n"
      ],
      "metadata": {
        "colab": {
          "base_uri": "https://localhost:8080/"
        },
        "id": "C6IyT1ZekqZ9",
        "outputId": "007be81f-0171-4cbd-fa51-153d719b2280"
      },
      "execution_count": null,
      "outputs": [
        {
          "output_type": "stream",
          "name": "stdout",
          "text": [
            "Classification Report with Reduced Features:\n",
            "              precision    recall  f1-score   support\n",
            "\n",
            "           1       0.64      0.84      0.73        19\n",
            "           2       0.60      0.65      0.63        23\n",
            "           3       1.00      0.00      0.00         4\n",
            "           5       0.50      0.33      0.40         6\n",
            "           6       0.33      0.33      0.33         3\n",
            "           7       1.00      0.80      0.89        10\n",
            "\n",
            "    accuracy                           0.65        65\n",
            "   macro avg       0.68      0.49      0.50        65\n",
            "weighted avg       0.68      0.65      0.62        65\n",
            "\n"
          ]
        }
      ]
    },
    {
      "cell_type": "markdown",
      "source": [
        "The removal of two features had a noticeable impact on the model's performance across different classes. While some classes, such as Class 1 and Class 7, showed improvements in recall and F1-score, other classes, particularly Class 3 and Class 5, suffered significant drops in performance.\n",
        "\n",
        "Class 3: The model completely failed to predict Class 3 after feature removal, resulting in a sharp decline in both recall and F1-score. This indicates that the dropped features might have been important for distinguishing this class. Class 5: Both precision and recall decreased significantly, leading to a notable drop in the F1-score. Class 1 and Class 7: These classes saw improvements in F1-scores, showing that the feature removal might have helped in reducing noise or overfitting for these specific classes. The overall accuracy of the model remained stable at 65%, suggesting that the model's ability to classify most instances correctly did not change significantly. However, the macro average F1-score dropped from 0.57 to 0.50, reflecting that performance across all classes was less balanced. The weighted average F1-score also dropped slightly, indicating a general decrease in the model’s ability to generalize across the dataset.\n",
        "\n",
        "Trade-offs:\n",
        "The removal of features helped improve performance in certain classes (like Class 1 and Class 7) but had a negative impact on others (like Class 3 and Class 5). This suggests that while the model became more focused on some classes, it lost the ability to accurately distinguish between others."
      ],
      "metadata": {
        "id": "hHPxIh7nm57Q"
      }
    },
    {
      "cell_type": "markdown",
      "source": [
        "**Using input without Kernel**"
      ],
      "metadata": {
        "id": "qgsK__o8k0TI"
      }
    },
    {
      "cell_type": "code",
      "source": [
        "\n",
        "X_train_s, X_test_s, y_train_s, y_test_s = train_test_split(X_scaled, y, test_size=0.3, random_state=42)\n",
        "\n",
        "print(f\"Original training set size: {X_train_s.shape[0]}\")\n",
        "\n",
        "smote = SMOTE(sampling_strategy='auto', random_state=42)\n",
        "\n",
        "X_train_s_resampled, y_train_s_resampled = smote.fit_resample(X_train_s, y_train_s)\n",
        "\n",
        "print(f\"Resampled training set size: {X_train_s_resampled.shape[0]}\")"
      ],
      "metadata": {
        "colab": {
          "base_uri": "https://localhost:8080/"
        },
        "id": "_hHG-j6uk5dU",
        "outputId": "b29cedc3-300d-4100-9201-db29a863619a"
      },
      "execution_count": null,
      "outputs": [
        {
          "output_type": "stream",
          "name": "stdout",
          "text": [
            "Original training set size: 149\n",
            "Resampled training set size: 318\n"
          ]
        }
      ]
    },
    {
      "cell_type": "code",
      "source": [
        "best_regression.fit(X_train_s_resampled, y_train_s_resampled)\n",
        "y_pred_s = best_regression.predict(X_test_s)\n",
        "print(\"Classification Report:\")\n",
        "print(classification_report(y_test_s, y_pred_s))"
      ],
      "metadata": {
        "colab": {
          "base_uri": "https://localhost:8080/"
        },
        "id": "jxQ3CGW_l8Bn",
        "outputId": "01c30780-b6a4-4a5b-b881-37b0be4d341b"
      },
      "execution_count": null,
      "outputs": [
        {
          "output_type": "stream",
          "name": "stdout",
          "text": [
            "Classification Report:\n",
            "              precision    recall  f1-score   support\n",
            "\n",
            "           1       0.63      0.63      0.63        19\n",
            "           2       0.67      0.35      0.46        23\n",
            "           3       0.08      0.25      0.12         4\n",
            "           5       0.83      0.83      0.83         6\n",
            "           6       0.60      1.00      0.75         3\n",
            "           7       1.00      1.00      1.00        10\n",
            "\n",
            "    accuracy                           0.60        65\n",
            "   macro avg       0.63      0.68      0.63        65\n",
            "weighted avg       0.68      0.60      0.62        65\n",
            "\n"
          ]
        }
      ]
    },
    {
      "cell_type": "code",
      "source": [
        "print(f\"Number of features: {X_train_s.shape[1]}\")\n",
        "print(f\"Number of coefficients: {best_regression.coef_.shape[1]}\")\n"
      ],
      "metadata": {
        "colab": {
          "base_uri": "https://localhost:8080/"
        },
        "id": "BANMxnTzmSFE",
        "outputId": "a814105f-7453-49ae-9262-8165fd4b2256"
      },
      "execution_count": null,
      "outputs": [
        {
          "output_type": "stream",
          "name": "stdout",
          "text": [
            "Number of features: 9\n",
            "Number of coefficients: 9\n"
          ]
        }
      ]
    },
    {
      "cell_type": "code",
      "source": [
        "\n",
        "coefficients = best_regression.coef_[0]\n",
        "\n",
        "\n",
        "abs_coefficients = np.abs(coefficients)\n",
        "\n",
        "\n",
        "\n",
        "if hasattr(X_train_s, 'columns'):\n",
        "    feature_names = X_train_s.columns\n",
        "else:\n",
        "    feature_names = np.arange(len(coefficients))\n",
        "\n",
        "\n",
        "least_significant_indices = np.argsort(abs_coefficients)[:2]\n",
        "\n",
        "print(least_significant_indices)\n",
        "least_significant_features = feature_names[least_significant_indices]\n",
        "print(\"Two least significant features:\")\n",
        "print(least_significant_features)\n"
      ],
      "metadata": {
        "colab": {
          "base_uri": "https://localhost:8080/"
        },
        "id": "Cpj9ZIiKma4V",
        "outputId": "a6db2192-e2a0-4d76-b5aa-3706470b2d6c"
      },
      "execution_count": null,
      "outputs": [
        {
          "output_type": "stream",
          "name": "stdout",
          "text": [
            "[5 7]\n",
            "Two least significant features:\n",
            "Index(['K', 'Ba'], dtype='object')\n"
          ]
        }
      ]
    },
    {
      "cell_type": "code",
      "source": [
        "\n",
        "if hasattr(X_train_s, 'columns'):\n",
        "    least_significant_features = X_train_s.columns[[5, 7]]\n",
        "    X_train_reduced_s = X_train_s.drop(columns=least_significant_features)\n",
        "    X_test_reduced_s = X_test_s.drop(columns=least_significant_features)\n",
        "else:\n",
        "    X_train_reduced_s = np.delete(X_train_s, [5, 7], axis=1)\n",
        "    X_test_reduced_s = np.delete(X_test_s, [5, 7], axis=1)\n"
      ],
      "metadata": {
        "id": "qRjBWzPLnFHO"
      },
      "execution_count": null,
      "outputs": []
    },
    {
      "cell_type": "code",
      "source": [
        "\n",
        "best_regression.fit(X_train_reduced_s, y_train_s)\n",
        "\n",
        "y_pred_reduced_s = best_regression.predict(X_test_reduced_s)\n"
      ],
      "metadata": {
        "id": "Z-qJAZJnnLoM"
      },
      "execution_count": null,
      "outputs": []
    },
    {
      "cell_type": "code",
      "source": [
        "\n",
        "report_reduced_s = classification_report(y_test_s, y_pred_reduced_s, zero_division=1)\n",
        "print(\"Classification Report with Reduced Features:\")\n",
        "print(report_reduced_s)\n"
      ],
      "metadata": {
        "colab": {
          "base_uri": "https://localhost:8080/"
        },
        "id": "lEjw7Tmjn2bw",
        "outputId": "b520df65-bbeb-4f0d-8e2c-6dcfabe69101"
      },
      "execution_count": null,
      "outputs": [
        {
          "output_type": "stream",
          "name": "stdout",
          "text": [
            "Classification Report with Reduced Features:\n",
            "              precision    recall  f1-score   support\n",
            "\n",
            "           1       0.50      0.68      0.58        19\n",
            "           2       0.50      0.52      0.51        23\n",
            "           3       1.00      0.00      0.00         4\n",
            "           5       1.00      0.00      0.00         6\n",
            "           6       1.00      0.00      0.00         3\n",
            "           7       0.53      0.80      0.64        10\n",
            "\n",
            "    accuracy                           0.51        65\n",
            "   macro avg       0.76      0.33      0.29        65\n",
            "weighted avg       0.61      0.51      0.45        65\n",
            "\n"
          ]
        }
      ]
    },
    {
      "cell_type": "markdown",
      "source": [
        "**Method used for feature selection:**\n",
        "Coefficent of every feature is taken from trained model. This coefficients gives the weight of every feature, this is then ordered in ascending order taking the absolute value. Now, the feature associated with lowest weights gives the least significant feature and higher weight gives the most significant feature.\n",
        "\n",
        "This is because, even if the feature value is high, if coefficients(weight) associated with it is low, its contribution is low to the output."
      ],
      "metadata": {
        "id": "QkhZZeVVYJrj"
      }
    },
    {
      "cell_type": "markdown",
      "source": [
        "# **Conclusion**\n",
        "The removal of two features 'K' and 'Ba' had a noticeable impact on the model's performance across different classes. Improvement was seen only in recall of class 1.\n",
        "\n",
        "Recall, f1 score and accuracy dropped drastically after removal of Potassium and Barium,  this indicates that even though these features are least valuable among other features, this features is still necessary for accurate prediction"
      ],
      "metadata": {
        "id": "ECah3782ptkM"
      }
    }
  ]
}